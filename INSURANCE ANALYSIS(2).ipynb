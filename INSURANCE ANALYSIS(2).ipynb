{
 "cells": [
  {
   "cell_type": "markdown",
   "id": "b97f68a3",
   "metadata": {},
   "source": [
    "# INSURANCE ANALYSIS"
   ]
  },
  {
   "cell_type": "markdown",
   "id": "61589f2b",
   "metadata": {},
   "source": [
    "##### IMPORTING LIBRARIES"
   ]
  },
  {
   "cell_type": "code",
   "execution_count": 2,
   "id": "19b73606",
   "metadata": {},
   "outputs": [],
   "source": [
    "### impporting libraries \n",
    "import pandas as pd\n",
    "import numpy as  np\n",
    "import matplotlib.pyplot as plt\n",
    "import statistics as st"
   ]
  },
  {
   "cell_type": "code",
   "execution_count": 82,
   "id": "591eaac1",
   "metadata": {},
   "outputs": [
    {
     "data": {
      "text/html": [
       "<div>\n",
       "<style scoped>\n",
       "    .dataframe tbody tr th:only-of-type {\n",
       "        vertical-align: middle;\n",
       "    }\n",
       "\n",
       "    .dataframe tbody tr th {\n",
       "        vertical-align: top;\n",
       "    }\n",
       "\n",
       "    .dataframe thead th {\n",
       "        text-align: right;\n",
       "    }\n",
       "</style>\n",
       "<table border=\"1\" class=\"dataframe\">\n",
       "  <thead>\n",
       "    <tr style=\"text-align: right;\">\n",
       "      <th></th>\n",
       "      <th>Age</th>\n",
       "      <th>Employment Type</th>\n",
       "      <th>GraduateOrNot</th>\n",
       "      <th>AnnualIncome</th>\n",
       "      <th>FamilyMembers</th>\n",
       "      <th>ChronicDiseases</th>\n",
       "      <th>FrequentFlyer</th>\n",
       "      <th>EverTravelledAbroad</th>\n",
       "      <th>TravelInsurance</th>\n",
       "    </tr>\n",
       "  </thead>\n",
       "  <tbody>\n",
       "    <tr>\n",
       "      <th>0</th>\n",
       "      <td>31</td>\n",
       "      <td>Government Sector</td>\n",
       "      <td>Yes</td>\n",
       "      <td>400000</td>\n",
       "      <td>6</td>\n",
       "      <td>1</td>\n",
       "      <td>No</td>\n",
       "      <td>No</td>\n",
       "      <td>0</td>\n",
       "    </tr>\n",
       "    <tr>\n",
       "      <th>1</th>\n",
       "      <td>31</td>\n",
       "      <td>Private Sector/Self Employed</td>\n",
       "      <td>Yes</td>\n",
       "      <td>1250000</td>\n",
       "      <td>7</td>\n",
       "      <td>0</td>\n",
       "      <td>No</td>\n",
       "      <td>No</td>\n",
       "      <td>0</td>\n",
       "    </tr>\n",
       "    <tr>\n",
       "      <th>2</th>\n",
       "      <td>34</td>\n",
       "      <td>Private Sector/Self Employed</td>\n",
       "      <td>Yes</td>\n",
       "      <td>500000</td>\n",
       "      <td>4</td>\n",
       "      <td>1</td>\n",
       "      <td>No</td>\n",
       "      <td>No</td>\n",
       "      <td>1</td>\n",
       "    </tr>\n",
       "    <tr>\n",
       "      <th>3</th>\n",
       "      <td>28</td>\n",
       "      <td>Private Sector/Self Employed</td>\n",
       "      <td>Yes</td>\n",
       "      <td>700000</td>\n",
       "      <td>3</td>\n",
       "      <td>1</td>\n",
       "      <td>No</td>\n",
       "      <td>No</td>\n",
       "      <td>0</td>\n",
       "    </tr>\n",
       "    <tr>\n",
       "      <th>4</th>\n",
       "      <td>28</td>\n",
       "      <td>Private Sector/Self Employed</td>\n",
       "      <td>Yes</td>\n",
       "      <td>700000</td>\n",
       "      <td>8</td>\n",
       "      <td>1</td>\n",
       "      <td>Yes</td>\n",
       "      <td>No</td>\n",
       "      <td>0</td>\n",
       "    </tr>\n",
       "    <tr>\n",
       "      <th>5</th>\n",
       "      <td>25</td>\n",
       "      <td>Private Sector/Self Employed</td>\n",
       "      <td>No</td>\n",
       "      <td>1150000</td>\n",
       "      <td>4</td>\n",
       "      <td>0</td>\n",
       "      <td>No</td>\n",
       "      <td>No</td>\n",
       "      <td>0</td>\n",
       "    </tr>\n",
       "    <tr>\n",
       "      <th>6</th>\n",
       "      <td>31</td>\n",
       "      <td>Government Sector</td>\n",
       "      <td>Yes</td>\n",
       "      <td>1300000</td>\n",
       "      <td>4</td>\n",
       "      <td>0</td>\n",
       "      <td>No</td>\n",
       "      <td>No</td>\n",
       "      <td>0</td>\n",
       "    </tr>\n",
       "    <tr>\n",
       "      <th>7</th>\n",
       "      <td>31</td>\n",
       "      <td>Private Sector/Self Employed</td>\n",
       "      <td>Yes</td>\n",
       "      <td>1350000</td>\n",
       "      <td>3</td>\n",
       "      <td>0</td>\n",
       "      <td>Yes</td>\n",
       "      <td>Yes</td>\n",
       "      <td>1</td>\n",
       "    </tr>\n",
       "    <tr>\n",
       "      <th>8</th>\n",
       "      <td>28</td>\n",
       "      <td>Private Sector/Self Employed</td>\n",
       "      <td>Yes</td>\n",
       "      <td>1450000</td>\n",
       "      <td>6</td>\n",
       "      <td>1</td>\n",
       "      <td>Yes</td>\n",
       "      <td>Yes</td>\n",
       "      <td>1</td>\n",
       "    </tr>\n",
       "    <tr>\n",
       "      <th>9</th>\n",
       "      <td>33</td>\n",
       "      <td>Government Sector</td>\n",
       "      <td>Yes</td>\n",
       "      <td>800000</td>\n",
       "      <td>3</td>\n",
       "      <td>0</td>\n",
       "      <td>Yes</td>\n",
       "      <td>No</td>\n",
       "      <td>0</td>\n",
       "    </tr>\n",
       "    <tr>\n",
       "      <th>10</th>\n",
       "      <td>31</td>\n",
       "      <td>Government Sector</td>\n",
       "      <td>Yes</td>\n",
       "      <td>400000</td>\n",
       "      <td>9</td>\n",
       "      <td>1</td>\n",
       "      <td>No</td>\n",
       "      <td>No</td>\n",
       "      <td>0</td>\n",
       "    </tr>\n",
       "    <tr>\n",
       "      <th>11</th>\n",
       "      <td>26</td>\n",
       "      <td>Private Sector/Self Employed</td>\n",
       "      <td>Yes</td>\n",
       "      <td>1400000</td>\n",
       "      <td>5</td>\n",
       "      <td>0</td>\n",
       "      <td>Yes</td>\n",
       "      <td>Yes</td>\n",
       "      <td>1</td>\n",
       "    </tr>\n",
       "    <tr>\n",
       "      <th>12</th>\n",
       "      <td>32</td>\n",
       "      <td>Government Sector</td>\n",
       "      <td>Yes</td>\n",
       "      <td>850000</td>\n",
       "      <td>6</td>\n",
       "      <td>0</td>\n",
       "      <td>No</td>\n",
       "      <td>No</td>\n",
       "      <td>1</td>\n",
       "    </tr>\n",
       "    <tr>\n",
       "      <th>13</th>\n",
       "      <td>31</td>\n",
       "      <td>Government Sector</td>\n",
       "      <td>Yes</td>\n",
       "      <td>1500000</td>\n",
       "      <td>6</td>\n",
       "      <td>0</td>\n",
       "      <td>Yes</td>\n",
       "      <td>Yes</td>\n",
       "      <td>1</td>\n",
       "    </tr>\n",
       "    <tr>\n",
       "      <th>14</th>\n",
       "      <td>31</td>\n",
       "      <td>Government Sector</td>\n",
       "      <td>Yes</td>\n",
       "      <td>400000</td>\n",
       "      <td>3</td>\n",
       "      <td>0</td>\n",
       "      <td>No</td>\n",
       "      <td>No</td>\n",
       "      <td>0</td>\n",
       "    </tr>\n",
       "    <tr>\n",
       "      <th>15</th>\n",
       "      <td>34</td>\n",
       "      <td>Private Sector/Self Employed</td>\n",
       "      <td>Yes</td>\n",
       "      <td>700000</td>\n",
       "      <td>7</td>\n",
       "      <td>0</td>\n",
       "      <td>No</td>\n",
       "      <td>No</td>\n",
       "      <td>0</td>\n",
       "    </tr>\n",
       "    <tr>\n",
       "      <th>16</th>\n",
       "      <td>28</td>\n",
       "      <td>Private Sector/Self Employed</td>\n",
       "      <td>Yes</td>\n",
       "      <td>1150000</td>\n",
       "      <td>4</td>\n",
       "      <td>1</td>\n",
       "      <td>No</td>\n",
       "      <td>No</td>\n",
       "      <td>0</td>\n",
       "    </tr>\n",
       "    <tr>\n",
       "      <th>17</th>\n",
       "      <td>28</td>\n",
       "      <td>Private Sector/Self Employed</td>\n",
       "      <td>Yes</td>\n",
       "      <td>800000</td>\n",
       "      <td>7</td>\n",
       "      <td>0</td>\n",
       "      <td>No</td>\n",
       "      <td>No</td>\n",
       "      <td>1</td>\n",
       "    </tr>\n",
       "    <tr>\n",
       "      <th>18</th>\n",
       "      <td>29</td>\n",
       "      <td>Private Sector/Self Employed</td>\n",
       "      <td>Yes</td>\n",
       "      <td>1050000</td>\n",
       "      <td>5</td>\n",
       "      <td>1</td>\n",
       "      <td>No</td>\n",
       "      <td>No</td>\n",
       "      <td>1</td>\n",
       "    </tr>\n",
       "    <tr>\n",
       "      <th>19</th>\n",
       "      <td>34</td>\n",
       "      <td>Private Sector/Self Employed</td>\n",
       "      <td>Yes</td>\n",
       "      <td>1500000</td>\n",
       "      <td>2</td>\n",
       "      <td>0</td>\n",
       "      <td>Yes</td>\n",
       "      <td>Yes</td>\n",
       "      <td>1</td>\n",
       "    </tr>\n",
       "    <tr>\n",
       "      <th>20</th>\n",
       "      <td>28</td>\n",
       "      <td>Private Sector/Self Employed</td>\n",
       "      <td>Yes</td>\n",
       "      <td>1150000</td>\n",
       "      <td>6</td>\n",
       "      <td>0</td>\n",
       "      <td>Yes</td>\n",
       "      <td>No</td>\n",
       "      <td>0</td>\n",
       "    </tr>\n",
       "    <tr>\n",
       "      <th>21</th>\n",
       "      <td>29</td>\n",
       "      <td>Private Sector/Self Employed</td>\n",
       "      <td>Yes</td>\n",
       "      <td>350000</td>\n",
       "      <td>3</td>\n",
       "      <td>0</td>\n",
       "      <td>No</td>\n",
       "      <td>No</td>\n",
       "      <td>1</td>\n",
       "    </tr>\n",
       "    <tr>\n",
       "      <th>22</th>\n",
       "      <td>31</td>\n",
       "      <td>Private Sector/Self Employed</td>\n",
       "      <td>Yes</td>\n",
       "      <td>1100000</td>\n",
       "      <td>4</td>\n",
       "      <td>0</td>\n",
       "      <td>No</td>\n",
       "      <td>No</td>\n",
       "      <td>0</td>\n",
       "    </tr>\n",
       "    <tr>\n",
       "      <th>23</th>\n",
       "      <td>28</td>\n",
       "      <td>Government Sector</td>\n",
       "      <td>Yes</td>\n",
       "      <td>600000</td>\n",
       "      <td>9</td>\n",
       "      <td>0</td>\n",
       "      <td>No</td>\n",
       "      <td>No</td>\n",
       "      <td>1</td>\n",
       "    </tr>\n",
       "    <tr>\n",
       "      <th>24</th>\n",
       "      <td>31</td>\n",
       "      <td>Government Sector</td>\n",
       "      <td>Yes</td>\n",
       "      <td>1500000</td>\n",
       "      <td>7</td>\n",
       "      <td>0</td>\n",
       "      <td>Yes</td>\n",
       "      <td>Yes</td>\n",
       "      <td>0</td>\n",
       "    </tr>\n",
       "    <tr>\n",
       "      <th>25</th>\n",
       "      <td>35</td>\n",
       "      <td>Private Sector/Self Employed</td>\n",
       "      <td>No</td>\n",
       "      <td>800000</td>\n",
       "      <td>4</td>\n",
       "      <td>0</td>\n",
       "      <td>No</td>\n",
       "      <td>Yes</td>\n",
       "      <td>0</td>\n",
       "    </tr>\n",
       "    <tr>\n",
       "      <th>26</th>\n",
       "      <td>34</td>\n",
       "      <td>Private Sector/Self Employed</td>\n",
       "      <td>No</td>\n",
       "      <td>1300000</td>\n",
       "      <td>6</td>\n",
       "      <td>0</td>\n",
       "      <td>Yes</td>\n",
       "      <td>No</td>\n",
       "      <td>1</td>\n",
       "    </tr>\n",
       "    <tr>\n",
       "      <th>27</th>\n",
       "      <td>28</td>\n",
       "      <td>Private Sector/Self Employed</td>\n",
       "      <td>Yes</td>\n",
       "      <td>1250000</td>\n",
       "      <td>2</td>\n",
       "      <td>0</td>\n",
       "      <td>Yes</td>\n",
       "      <td>No</td>\n",
       "      <td>0</td>\n",
       "    </tr>\n",
       "    <tr>\n",
       "      <th>28</th>\n",
       "      <td>26</td>\n",
       "      <td>Private Sector/Self Employed</td>\n",
       "      <td>Yes</td>\n",
       "      <td>600000</td>\n",
       "      <td>4</td>\n",
       "      <td>0</td>\n",
       "      <td>Yes</td>\n",
       "      <td>No</td>\n",
       "      <td>0</td>\n",
       "    </tr>\n",
       "    <tr>\n",
       "      <th>29</th>\n",
       "      <td>31</td>\n",
       "      <td>Private Sector/Self Employed</td>\n",
       "      <td>Yes</td>\n",
       "      <td>900000</td>\n",
       "      <td>3</td>\n",
       "      <td>0</td>\n",
       "      <td>No</td>\n",
       "      <td>No</td>\n",
       "      <td>0</td>\n",
       "    </tr>\n",
       "    <tr>\n",
       "      <th>30</th>\n",
       "      <td>30</td>\n",
       "      <td>Private Sector/Self Employed</td>\n",
       "      <td>No</td>\n",
       "      <td>550000</td>\n",
       "      <td>6</td>\n",
       "      <td>0</td>\n",
       "      <td>Yes</td>\n",
       "      <td>Yes</td>\n",
       "      <td>0</td>\n",
       "    </tr>\n",
       "    <tr>\n",
       "      <th>31</th>\n",
       "      <td>31</td>\n",
       "      <td>Government Sector</td>\n",
       "      <td>No</td>\n",
       "      <td>300000</td>\n",
       "      <td>4</td>\n",
       "      <td>0</td>\n",
       "      <td>No</td>\n",
       "      <td>No</td>\n",
       "      <td>0</td>\n",
       "    </tr>\n",
       "    <tr>\n",
       "      <th>32</th>\n",
       "      <td>25</td>\n",
       "      <td>Government Sector</td>\n",
       "      <td>Yes</td>\n",
       "      <td>750000</td>\n",
       "      <td>4</td>\n",
       "      <td>0</td>\n",
       "      <td>No</td>\n",
       "      <td>No</td>\n",
       "      <td>1</td>\n",
       "    </tr>\n",
       "    <tr>\n",
       "      <th>33</th>\n",
       "      <td>32</td>\n",
       "      <td>Government Sector</td>\n",
       "      <td>Yes</td>\n",
       "      <td>850000</td>\n",
       "      <td>3</td>\n",
       "      <td>0</td>\n",
       "      <td>No</td>\n",
       "      <td>No</td>\n",
       "      <td>0</td>\n",
       "    </tr>\n",
       "    <tr>\n",
       "      <th>34</th>\n",
       "      <td>28</td>\n",
       "      <td>Private Sector/Self Employed</td>\n",
       "      <td>Yes</td>\n",
       "      <td>800000</td>\n",
       "      <td>9</td>\n",
       "      <td>0</td>\n",
       "      <td>No</td>\n",
       "      <td>No</td>\n",
       "      <td>1</td>\n",
       "    </tr>\n",
       "    <tr>\n",
       "      <th>35</th>\n",
       "      <td>33</td>\n",
       "      <td>Private Sector/Self Employed</td>\n",
       "      <td>Yes</td>\n",
       "      <td>1400000</td>\n",
       "      <td>4</td>\n",
       "      <td>0</td>\n",
       "      <td>Yes</td>\n",
       "      <td>Yes</td>\n",
       "      <td>0</td>\n",
       "    </tr>\n",
       "    <tr>\n",
       "      <th>36</th>\n",
       "      <td>31</td>\n",
       "      <td>Government Sector</td>\n",
       "      <td>No</td>\n",
       "      <td>300000</td>\n",
       "      <td>9</td>\n",
       "      <td>1</td>\n",
       "      <td>No</td>\n",
       "      <td>No</td>\n",
       "      <td>0</td>\n",
       "    </tr>\n",
       "    <tr>\n",
       "      <th>37</th>\n",
       "      <td>34</td>\n",
       "      <td>Private Sector/Self Employed</td>\n",
       "      <td>Yes</td>\n",
       "      <td>700000</td>\n",
       "      <td>4</td>\n",
       "      <td>0</td>\n",
       "      <td>No</td>\n",
       "      <td>No</td>\n",
       "      <td>0</td>\n",
       "    </tr>\n",
       "    <tr>\n",
       "      <th>38</th>\n",
       "      <td>34</td>\n",
       "      <td>Government Sector</td>\n",
       "      <td>Yes</td>\n",
       "      <td>1100000</td>\n",
       "      <td>2</td>\n",
       "      <td>0</td>\n",
       "      <td>No</td>\n",
       "      <td>No</td>\n",
       "      <td>0</td>\n",
       "    </tr>\n",
       "    <tr>\n",
       "      <th>39</th>\n",
       "      <td>33</td>\n",
       "      <td>Private Sector/Self Employed</td>\n",
       "      <td>Yes</td>\n",
       "      <td>1500000</td>\n",
       "      <td>5</td>\n",
       "      <td>1</td>\n",
       "      <td>Yes</td>\n",
       "      <td>Yes</td>\n",
       "      <td>1</td>\n",
       "    </tr>\n",
       "    <tr>\n",
       "      <th>40</th>\n",
       "      <td>25</td>\n",
       "      <td>Private Sector/Self Employed</td>\n",
       "      <td>Yes</td>\n",
       "      <td>1400000</td>\n",
       "      <td>3</td>\n",
       "      <td>1</td>\n",
       "      <td>Yes</td>\n",
       "      <td>Yes</td>\n",
       "      <td>1</td>\n",
       "    </tr>\n",
       "    <tr>\n",
       "      <th>41</th>\n",
       "      <td>33</td>\n",
       "      <td>Private Sector/Self Employed</td>\n",
       "      <td>Yes</td>\n",
       "      <td>550000</td>\n",
       "      <td>5</td>\n",
       "      <td>0</td>\n",
       "      <td>No</td>\n",
       "      <td>No</td>\n",
       "      <td>0</td>\n",
       "    </tr>\n",
       "    <tr>\n",
       "      <th>42</th>\n",
       "      <td>26</td>\n",
       "      <td>Private Sector/Self Employed</td>\n",
       "      <td>Yes</td>\n",
       "      <td>1500000</td>\n",
       "      <td>2</td>\n",
       "      <td>1</td>\n",
       "      <td>Yes</td>\n",
       "      <td>Yes</td>\n",
       "      <td>1</td>\n",
       "    </tr>\n",
       "    <tr>\n",
       "      <th>43</th>\n",
       "      <td>28</td>\n",
       "      <td>Private Sector/Self Employed</td>\n",
       "      <td>Yes</td>\n",
       "      <td>1200000</td>\n",
       "      <td>4</td>\n",
       "      <td>0</td>\n",
       "      <td>Yes</td>\n",
       "      <td>No</td>\n",
       "      <td>1</td>\n",
       "    </tr>\n",
       "    <tr>\n",
       "      <th>44</th>\n",
       "      <td>25</td>\n",
       "      <td>Private Sector/Self Employed</td>\n",
       "      <td>Yes</td>\n",
       "      <td>1400000</td>\n",
       "      <td>7</td>\n",
       "      <td>0</td>\n",
       "      <td>No</td>\n",
       "      <td>Yes</td>\n",
       "      <td>1</td>\n",
       "    </tr>\n",
       "    <tr>\n",
       "      <th>45</th>\n",
       "      <td>34</td>\n",
       "      <td>Private Sector/Self Employed</td>\n",
       "      <td>No</td>\n",
       "      <td>1400000</td>\n",
       "      <td>5</td>\n",
       "      <td>1</td>\n",
       "      <td>No</td>\n",
       "      <td>Yes</td>\n",
       "      <td>1</td>\n",
       "    </tr>\n",
       "    <tr>\n",
       "      <th>46</th>\n",
       "      <td>25</td>\n",
       "      <td>Private Sector/Self Employed</td>\n",
       "      <td>Yes</td>\n",
       "      <td>1400000</td>\n",
       "      <td>4</td>\n",
       "      <td>0</td>\n",
       "      <td>No</td>\n",
       "      <td>Yes</td>\n",
       "      <td>1</td>\n",
       "    </tr>\n",
       "    <tr>\n",
       "      <th>47</th>\n",
       "      <td>35</td>\n",
       "      <td>Government Sector</td>\n",
       "      <td>Yes</td>\n",
       "      <td>1100000</td>\n",
       "      <td>5</td>\n",
       "      <td>0</td>\n",
       "      <td>No</td>\n",
       "      <td>No</td>\n",
       "      <td>0</td>\n",
       "    </tr>\n",
       "    <tr>\n",
       "      <th>48</th>\n",
       "      <td>28</td>\n",
       "      <td>Private Sector/Self Employed</td>\n",
       "      <td>Yes</td>\n",
       "      <td>600000</td>\n",
       "      <td>3</td>\n",
       "      <td>0</td>\n",
       "      <td>No</td>\n",
       "      <td>No</td>\n",
       "      <td>0</td>\n",
       "    </tr>\n",
       "    <tr>\n",
       "      <th>49</th>\n",
       "      <td>31</td>\n",
       "      <td>Private Sector/Self Employed</td>\n",
       "      <td>Yes</td>\n",
       "      <td>1350000</td>\n",
       "      <td>3</td>\n",
       "      <td>0</td>\n",
       "      <td>No</td>\n",
       "      <td>Yes</td>\n",
       "      <td>1</td>\n",
       "    </tr>\n",
       "  </tbody>\n",
       "</table>\n",
       "</div>"
      ],
      "text/plain": [
       "    Age               Employment Type GraduateOrNot  AnnualIncome  \\\n",
       "0    31             Government Sector           Yes        400000   \n",
       "1    31  Private Sector/Self Employed           Yes       1250000   \n",
       "2    34  Private Sector/Self Employed           Yes        500000   \n",
       "3    28  Private Sector/Self Employed           Yes        700000   \n",
       "4    28  Private Sector/Self Employed           Yes        700000   \n",
       "5    25  Private Sector/Self Employed            No       1150000   \n",
       "6    31             Government Sector           Yes       1300000   \n",
       "7    31  Private Sector/Self Employed           Yes       1350000   \n",
       "8    28  Private Sector/Self Employed           Yes       1450000   \n",
       "9    33             Government Sector           Yes        800000   \n",
       "10   31             Government Sector           Yes        400000   \n",
       "11   26  Private Sector/Self Employed           Yes       1400000   \n",
       "12   32             Government Sector           Yes        850000   \n",
       "13   31             Government Sector           Yes       1500000   \n",
       "14   31             Government Sector           Yes        400000   \n",
       "15   34  Private Sector/Self Employed           Yes        700000   \n",
       "16   28  Private Sector/Self Employed           Yes       1150000   \n",
       "17   28  Private Sector/Self Employed           Yes        800000   \n",
       "18   29  Private Sector/Self Employed           Yes       1050000   \n",
       "19   34  Private Sector/Self Employed           Yes       1500000   \n",
       "20   28  Private Sector/Self Employed           Yes       1150000   \n",
       "21   29  Private Sector/Self Employed           Yes        350000   \n",
       "22   31  Private Sector/Self Employed           Yes       1100000   \n",
       "23   28             Government Sector           Yes        600000   \n",
       "24   31             Government Sector           Yes       1500000   \n",
       "25   35  Private Sector/Self Employed            No        800000   \n",
       "26   34  Private Sector/Self Employed            No       1300000   \n",
       "27   28  Private Sector/Self Employed           Yes       1250000   \n",
       "28   26  Private Sector/Self Employed           Yes        600000   \n",
       "29   31  Private Sector/Self Employed           Yes        900000   \n",
       "30   30  Private Sector/Self Employed            No        550000   \n",
       "31   31             Government Sector            No        300000   \n",
       "32   25             Government Sector           Yes        750000   \n",
       "33   32             Government Sector           Yes        850000   \n",
       "34   28  Private Sector/Self Employed           Yes        800000   \n",
       "35   33  Private Sector/Self Employed           Yes       1400000   \n",
       "36   31             Government Sector            No        300000   \n",
       "37   34  Private Sector/Self Employed           Yes        700000   \n",
       "38   34             Government Sector           Yes       1100000   \n",
       "39   33  Private Sector/Self Employed           Yes       1500000   \n",
       "40   25  Private Sector/Self Employed           Yes       1400000   \n",
       "41   33  Private Sector/Self Employed           Yes        550000   \n",
       "42   26  Private Sector/Self Employed           Yes       1500000   \n",
       "43   28  Private Sector/Self Employed           Yes       1200000   \n",
       "44   25  Private Sector/Self Employed           Yes       1400000   \n",
       "45   34  Private Sector/Self Employed            No       1400000   \n",
       "46   25  Private Sector/Self Employed           Yes       1400000   \n",
       "47   35             Government Sector           Yes       1100000   \n",
       "48   28  Private Sector/Self Employed           Yes        600000   \n",
       "49   31  Private Sector/Self Employed           Yes       1350000   \n",
       "\n",
       "    FamilyMembers  ChronicDiseases FrequentFlyer EverTravelledAbroad  \\\n",
       "0               6                1            No                  No   \n",
       "1               7                0            No                  No   \n",
       "2               4                1            No                  No   \n",
       "3               3                1            No                  No   \n",
       "4               8                1           Yes                  No   \n",
       "5               4                0            No                  No   \n",
       "6               4                0            No                  No   \n",
       "7               3                0           Yes                 Yes   \n",
       "8               6                1           Yes                 Yes   \n",
       "9               3                0           Yes                  No   \n",
       "10              9                1            No                  No   \n",
       "11              5                0           Yes                 Yes   \n",
       "12              6                0            No                  No   \n",
       "13              6                0           Yes                 Yes   \n",
       "14              3                0            No                  No   \n",
       "15              7                0            No                  No   \n",
       "16              4                1            No                  No   \n",
       "17              7                0            No                  No   \n",
       "18              5                1            No                  No   \n",
       "19              2                0           Yes                 Yes   \n",
       "20              6                0           Yes                  No   \n",
       "21              3                0            No                  No   \n",
       "22              4                0            No                  No   \n",
       "23              9                0            No                  No   \n",
       "24              7                0           Yes                 Yes   \n",
       "25              4                0            No                 Yes   \n",
       "26              6                0           Yes                  No   \n",
       "27              2                0           Yes                  No   \n",
       "28              4                0           Yes                  No   \n",
       "29              3                0            No                  No   \n",
       "30              6                0           Yes                 Yes   \n",
       "31              4                0            No                  No   \n",
       "32              4                0            No                  No   \n",
       "33              3                0            No                  No   \n",
       "34              9                0            No                  No   \n",
       "35              4                0           Yes                 Yes   \n",
       "36              9                1            No                  No   \n",
       "37              4                0            No                  No   \n",
       "38              2                0            No                  No   \n",
       "39              5                1           Yes                 Yes   \n",
       "40              3                1           Yes                 Yes   \n",
       "41              5                0            No                  No   \n",
       "42              2                1           Yes                 Yes   \n",
       "43              4                0           Yes                  No   \n",
       "44              7                0            No                 Yes   \n",
       "45              5                1            No                 Yes   \n",
       "46              4                0            No                 Yes   \n",
       "47              5                0            No                  No   \n",
       "48              3                0            No                  No   \n",
       "49              3                0            No                 Yes   \n",
       "\n",
       "    TravelInsurance  \n",
       "0                 0  \n",
       "1                 0  \n",
       "2                 1  \n",
       "3                 0  \n",
       "4                 0  \n",
       "5                 0  \n",
       "6                 0  \n",
       "7                 1  \n",
       "8                 1  \n",
       "9                 0  \n",
       "10                0  \n",
       "11                1  \n",
       "12                1  \n",
       "13                1  \n",
       "14                0  \n",
       "15                0  \n",
       "16                0  \n",
       "17                1  \n",
       "18                1  \n",
       "19                1  \n",
       "20                0  \n",
       "21                1  \n",
       "22                0  \n",
       "23                1  \n",
       "24                0  \n",
       "25                0  \n",
       "26                1  \n",
       "27                0  \n",
       "28                0  \n",
       "29                0  \n",
       "30                0  \n",
       "31                0  \n",
       "32                1  \n",
       "33                0  \n",
       "34                1  \n",
       "35                0  \n",
       "36                0  \n",
       "37                0  \n",
       "38                0  \n",
       "39                1  \n",
       "40                1  \n",
       "41                0  \n",
       "42                1  \n",
       "43                1  \n",
       "44                1  \n",
       "45                1  \n",
       "46                1  \n",
       "47                0  \n",
       "48                0  \n",
       "49                1  "
      ]
     },
     "execution_count": 82,
     "metadata": {},
     "output_type": "execute_result"
    }
   ],
   "source": [
    "### importing Dataset\n",
    "insurance_data =pd.read_csv('travel_insurance.csv')\n",
    "insurance_data\n",
    "insurance_data.head(50)"
   ]
  },
  {
   "cell_type": "markdown",
   "id": "4c809372",
   "metadata": {},
   "source": [
    "The dataset above is given by an isurance company to be analysed. It has a various columns which defines the row.s"
   ]
  },
  {
   "cell_type": "code",
   "execution_count": 4,
   "id": "e2e8a3b5",
   "metadata": {},
   "outputs": [
    {
     "data": {
      "text/plain": [
       "(1987, 9)"
      ]
     },
     "execution_count": 4,
     "metadata": {},
     "output_type": "execute_result"
    }
   ],
   "source": [
    "### checking the size of the dataset\n",
    "insurance_data.shape"
   ]
  },
  {
   "cell_type": "markdown",
   "id": "9dbfb553",
   "metadata": {},
   "source": [
    "The dataset has nine columns with one thousand nine hundred and eighty- seven rows"
   ]
  },
  {
   "cell_type": "code",
   "execution_count": 5,
   "id": "43d9fa3b",
   "metadata": {},
   "outputs": [
    {
     "data": {
      "text/plain": [
       "Index(['Age', 'Employment Type', 'GraduateOrNot', 'AnnualIncome',\n",
       "       'FamilyMembers', 'ChronicDiseases', 'FrequentFlyer',\n",
       "       'EverTravelledAbroad', 'TravelInsurance'],\n",
       "      dtype='object')"
      ]
     },
     "execution_count": 5,
     "metadata": {},
     "output_type": "execute_result"
    }
   ],
   "source": [
    "### looking at various columns of the dataset\n",
    "insurance_data.columns"
   ]
  },
  {
   "cell_type": "code",
   "execution_count": 6,
   "id": "a1c238d4",
   "metadata": {},
   "outputs": [
    {
     "name": "stdout",
     "output_type": "stream",
     "text": [
      "<class 'pandas.core.frame.DataFrame'>\n",
      "RangeIndex: 1987 entries, 0 to 1986\n",
      "Data columns (total 9 columns):\n",
      " #   Column               Non-Null Count  Dtype \n",
      "---  ------               --------------  ----- \n",
      " 0   Age                  1987 non-null   int64 \n",
      " 1   Employment Type      1987 non-null   object\n",
      " 2   GraduateOrNot        1987 non-null   object\n",
      " 3   AnnualIncome         1987 non-null   int64 \n",
      " 4   FamilyMembers        1987 non-null   int64 \n",
      " 5   ChronicDiseases      1987 non-null   int64 \n",
      " 6   FrequentFlyer        1987 non-null   object\n",
      " 7   EverTravelledAbroad  1987 non-null   object\n",
      " 8   TravelInsurance      1987 non-null   int64 \n",
      "dtypes: int64(5), object(4)\n",
      "memory usage: 139.8+ KB\n"
     ]
    }
   ],
   "source": [
    "### information about dataset\n",
    "insurance_data.info()"
   ]
  },
  {
   "cell_type": "markdown",
   "id": "9ef2f262",
   "metadata": {},
   "source": [
    "The dataset has numeric and categorical values"
   ]
  },
  {
   "cell_type": "code",
   "execution_count": 7,
   "id": "234fbc40",
   "metadata": {},
   "outputs": [
    {
     "data": {
      "text/html": [
       "<div>\n",
       "<style scoped>\n",
       "    .dataframe tbody tr th:only-of-type {\n",
       "        vertical-align: middle;\n",
       "    }\n",
       "\n",
       "    .dataframe tbody tr th {\n",
       "        vertical-align: top;\n",
       "    }\n",
       "\n",
       "    .dataframe thead th {\n",
       "        text-align: right;\n",
       "    }\n",
       "</style>\n",
       "<table border=\"1\" class=\"dataframe\">\n",
       "  <thead>\n",
       "    <tr style=\"text-align: right;\">\n",
       "      <th></th>\n",
       "      <th>Age</th>\n",
       "      <th>AnnualIncome</th>\n",
       "      <th>FamilyMembers</th>\n",
       "      <th>ChronicDiseases</th>\n",
       "      <th>TravelInsurance</th>\n",
       "    </tr>\n",
       "  </thead>\n",
       "  <tbody>\n",
       "    <tr>\n",
       "      <th>count</th>\n",
       "      <td>1987.000000</td>\n",
       "      <td>1.987000e+03</td>\n",
       "      <td>1987.000000</td>\n",
       "      <td>1987.000000</td>\n",
       "      <td>1987.000000</td>\n",
       "    </tr>\n",
       "    <tr>\n",
       "      <th>mean</th>\n",
       "      <td>29.650226</td>\n",
       "      <td>9.327630e+05</td>\n",
       "      <td>4.752894</td>\n",
       "      <td>0.277806</td>\n",
       "      <td>0.357323</td>\n",
       "    </tr>\n",
       "    <tr>\n",
       "      <th>std</th>\n",
       "      <td>2.913308</td>\n",
       "      <td>3.768557e+05</td>\n",
       "      <td>1.609650</td>\n",
       "      <td>0.448030</td>\n",
       "      <td>0.479332</td>\n",
       "    </tr>\n",
       "    <tr>\n",
       "      <th>min</th>\n",
       "      <td>25.000000</td>\n",
       "      <td>3.000000e+05</td>\n",
       "      <td>2.000000</td>\n",
       "      <td>0.000000</td>\n",
       "      <td>0.000000</td>\n",
       "    </tr>\n",
       "    <tr>\n",
       "      <th>25%</th>\n",
       "      <td>28.000000</td>\n",
       "      <td>6.000000e+05</td>\n",
       "      <td>4.000000</td>\n",
       "      <td>0.000000</td>\n",
       "      <td>0.000000</td>\n",
       "    </tr>\n",
       "    <tr>\n",
       "      <th>50%</th>\n",
       "      <td>29.000000</td>\n",
       "      <td>9.000000e+05</td>\n",
       "      <td>5.000000</td>\n",
       "      <td>0.000000</td>\n",
       "      <td>0.000000</td>\n",
       "    </tr>\n",
       "    <tr>\n",
       "      <th>75%</th>\n",
       "      <td>32.000000</td>\n",
       "      <td>1.250000e+06</td>\n",
       "      <td>6.000000</td>\n",
       "      <td>1.000000</td>\n",
       "      <td>1.000000</td>\n",
       "    </tr>\n",
       "    <tr>\n",
       "      <th>max</th>\n",
       "      <td>35.000000</td>\n",
       "      <td>1.800000e+06</td>\n",
       "      <td>9.000000</td>\n",
       "      <td>1.000000</td>\n",
       "      <td>1.000000</td>\n",
       "    </tr>\n",
       "  </tbody>\n",
       "</table>\n",
       "</div>"
      ],
      "text/plain": [
       "               Age  AnnualIncome  FamilyMembers  ChronicDiseases  \\\n",
       "count  1987.000000  1.987000e+03    1987.000000      1987.000000   \n",
       "mean     29.650226  9.327630e+05       4.752894         0.277806   \n",
       "std       2.913308  3.768557e+05       1.609650         0.448030   \n",
       "min      25.000000  3.000000e+05       2.000000         0.000000   \n",
       "25%      28.000000  6.000000e+05       4.000000         0.000000   \n",
       "50%      29.000000  9.000000e+05       5.000000         0.000000   \n",
       "75%      32.000000  1.250000e+06       6.000000         1.000000   \n",
       "max      35.000000  1.800000e+06       9.000000         1.000000   \n",
       "\n",
       "       TravelInsurance  \n",
       "count      1987.000000  \n",
       "mean          0.357323  \n",
       "std           0.479332  \n",
       "min           0.000000  \n",
       "25%           0.000000  \n",
       "50%           0.000000  \n",
       "75%           1.000000  \n",
       "max           1.000000  "
      ]
     },
     "execution_count": 7,
     "metadata": {},
     "output_type": "execute_result"
    }
   ],
   "source": [
    "### Statistical values of the dataset\n",
    "insurance_data.describe()"
   ]
  },
  {
   "cell_type": "markdown",
   "id": "101c39c6",
   "metadata": {},
   "source": [
    "###  UNIVARIATE ANALYSIS"
   ]
  },
  {
   "cell_type": "code",
   "execution_count": 8,
   "id": "a0469fe4",
   "metadata": {},
   "outputs": [
    {
     "data": {
      "text/html": [
       "<div>\n",
       "<style scoped>\n",
       "    .dataframe tbody tr th:only-of-type {\n",
       "        vertical-align: middle;\n",
       "    }\n",
       "\n",
       "    .dataframe tbody tr th {\n",
       "        vertical-align: top;\n",
       "    }\n",
       "\n",
       "    .dataframe thead th {\n",
       "        text-align: right;\n",
       "    }\n",
       "</style>\n",
       "<table border=\"1\" class=\"dataframe\">\n",
       "  <thead>\n",
       "    <tr style=\"text-align: right;\">\n",
       "      <th></th>\n",
       "      <th>Age</th>\n",
       "      <th>Employment Type</th>\n",
       "      <th>GraduateOrNot</th>\n",
       "      <th>AnnualIncome</th>\n",
       "      <th>FamilyMembers</th>\n",
       "      <th>ChronicDiseases</th>\n",
       "      <th>FrequentFlyer</th>\n",
       "      <th>EverTravelledAbroad</th>\n",
       "      <th>TravelInsurance</th>\n",
       "    </tr>\n",
       "  </thead>\n",
       "  <tbody>\n",
       "    <tr>\n",
       "      <th>0</th>\n",
       "      <td>31</td>\n",
       "      <td>Government Sector</td>\n",
       "      <td>Yes</td>\n",
       "      <td>400000</td>\n",
       "      <td>6</td>\n",
       "      <td>1</td>\n",
       "      <td>No</td>\n",
       "      <td>No</td>\n",
       "      <td>0</td>\n",
       "    </tr>\n",
       "    <tr>\n",
       "      <th>1</th>\n",
       "      <td>31</td>\n",
       "      <td>Private Sector/Self Employed</td>\n",
       "      <td>Yes</td>\n",
       "      <td>1250000</td>\n",
       "      <td>7</td>\n",
       "      <td>0</td>\n",
       "      <td>No</td>\n",
       "      <td>No</td>\n",
       "      <td>0</td>\n",
       "    </tr>\n",
       "    <tr>\n",
       "      <th>2</th>\n",
       "      <td>34</td>\n",
       "      <td>Private Sector/Self Employed</td>\n",
       "      <td>Yes</td>\n",
       "      <td>500000</td>\n",
       "      <td>4</td>\n",
       "      <td>1</td>\n",
       "      <td>No</td>\n",
       "      <td>No</td>\n",
       "      <td>1</td>\n",
       "    </tr>\n",
       "    <tr>\n",
       "      <th>3</th>\n",
       "      <td>28</td>\n",
       "      <td>Private Sector/Self Employed</td>\n",
       "      <td>Yes</td>\n",
       "      <td>700000</td>\n",
       "      <td>3</td>\n",
       "      <td>1</td>\n",
       "      <td>No</td>\n",
       "      <td>No</td>\n",
       "      <td>0</td>\n",
       "    </tr>\n",
       "    <tr>\n",
       "      <th>4</th>\n",
       "      <td>28</td>\n",
       "      <td>Private Sector/Self Employed</td>\n",
       "      <td>Yes</td>\n",
       "      <td>700000</td>\n",
       "      <td>8</td>\n",
       "      <td>1</td>\n",
       "      <td>Yes</td>\n",
       "      <td>No</td>\n",
       "      <td>0</td>\n",
       "    </tr>\n",
       "  </tbody>\n",
       "</table>\n",
       "</div>"
      ],
      "text/plain": [
       "   Age               Employment Type GraduateOrNot  AnnualIncome  \\\n",
       "0   31             Government Sector           Yes        400000   \n",
       "1   31  Private Sector/Self Employed           Yes       1250000   \n",
       "2   34  Private Sector/Self Employed           Yes        500000   \n",
       "3   28  Private Sector/Self Employed           Yes        700000   \n",
       "4   28  Private Sector/Self Employed           Yes        700000   \n",
       "\n",
       "   FamilyMembers  ChronicDiseases FrequentFlyer EverTravelledAbroad  \\\n",
       "0              6                1            No                  No   \n",
       "1              7                0            No                  No   \n",
       "2              4                1            No                  No   \n",
       "3              3                1            No                  No   \n",
       "4              8                1           Yes                  No   \n",
       "\n",
       "   TravelInsurance  \n",
       "0                0  \n",
       "1                0  \n",
       "2                1  \n",
       "3                0  \n",
       "4                0  "
      ]
     },
     "execution_count": 8,
     "metadata": {},
     "output_type": "execute_result"
    }
   ],
   "source": [
    "insurance_data.head()"
   ]
  },
  {
   "cell_type": "markdown",
   "id": "b741a5c4",
   "metadata": {},
   "source": [
    "###   \tAge"
   ]
  },
  {
   "cell_type": "code",
   "execution_count": 9,
   "id": "a7119a6c",
   "metadata": {},
   "outputs": [
    {
     "data": {
      "text/plain": [
       "0    31\n",
       "1    31\n",
       "2    34\n",
       "3    28\n",
       "4    28\n",
       "Name: Age, dtype: int64"
      ]
     },
     "execution_count": 9,
     "metadata": {},
     "output_type": "execute_result"
    }
   ],
   "source": [
    "### looking at the number of age column \n",
    "insurance_data.Age.head()"
   ]
  },
  {
   "cell_type": "code",
   "execution_count": 10,
   "id": "7e9458c4",
   "metadata": {},
   "outputs": [
    {
     "data": {
      "text/plain": [
       "35"
      ]
     },
     "execution_count": 10,
     "metadata": {},
     "output_type": "execute_result"
    }
   ],
   "source": [
    "### Bringing out the oldest customers\n",
    "insurance_data.Age.max()"
   ]
  },
  {
   "cell_type": "markdown",
   "id": "751edfa1",
   "metadata": {},
   "source": [
    "The oldest customers in the dataset are 35 years old"
   ]
  },
  {
   "cell_type": "code",
   "execution_count": 11,
   "id": "27914b78",
   "metadata": {},
   "outputs": [
    {
     "data": {
      "text/plain": [
       "25"
      ]
     },
     "execution_count": 11,
     "metadata": {},
     "output_type": "execute_result"
    }
   ],
   "source": [
    "### Querrying the youngest customers in the dataset\n",
    "insurance_data.Age.min() \n"
   ]
  },
  {
   "cell_type": "markdown",
   "id": "10ee5333",
   "metadata": {},
   "source": [
    "The youngest customers in the dataset are 25 years"
   ]
  },
  {
   "cell_type": "code",
   "execution_count": 12,
   "id": "db0b002a",
   "metadata": {},
   "outputs": [
    {
     "data": {
      "text/plain": [
       "29.650226472068447"
      ]
     },
     "execution_count": 12,
     "metadata": {},
     "output_type": "execute_result"
    }
   ],
   "source": [
    "### The average customer age in the datsset\n",
    "insurance_data.Age.mean()"
   ]
  },
  {
   "cell_type": "code",
   "execution_count": 13,
   "id": "5ec194d7",
   "metadata": {},
   "outputs": [
    {
     "data": {
      "text/plain": [
       "30"
      ]
     },
     "execution_count": 13,
     "metadata": {},
     "output_type": "execute_result"
    }
   ],
   "source": [
    "round(29.650226472068447)"
   ]
  },
  {
   "cell_type": "code",
   "execution_count": 14,
   "id": "10b53428",
   "metadata": {},
   "outputs": [
    {
     "data": {
      "text/plain": [
       "28"
      ]
     },
     "execution_count": 14,
     "metadata": {},
     "output_type": "execute_result"
    }
   ],
   "source": [
    "### looking at the modal age of the customers\n",
    "st.mode(insurance_data.Age)"
   ]
  },
  {
   "cell_type": "markdown",
   "id": "09981e8e",
   "metadata": {},
   "source": [
    "The average age of the customers are 30"
   ]
  },
  {
   "cell_type": "code",
   "execution_count": 15,
   "id": "6ec2afab",
   "metadata": {},
   "outputs": [
    {
     "data": {
      "image/png": "[encoded data removed]",
      "text/plain": [
       "<Figure size 432x288 with 1 Axes>"
      ]
     },
     "metadata": {
      "needs_background": "light"
     },
     "output_type": "display_data"
    }
   ],
   "source": [
    "### looking at the age column graphically\n",
    "plt.boxplot(insurance_data.Age)         \n",
    "figsize= 9,9\n",
    "plt.show()"
   ]
  },
  {
   "cell_type": "markdown",
   "id": "692c2415",
   "metadata": {},
   "source": [
    "The graph shows that most the customers are 28 years of age."
   ]
  },
  {
   "cell_type": "markdown",
   "id": "0bf968f5",
   "metadata": {},
   "source": [
    "### Employment Type"
   ]
  },
  {
   "cell_type": "code",
   "execution_count": 16,
   "id": "245c8b78",
   "metadata": {},
   "outputs": [
    {
     "data": {
      "text/plain": [
       "0               Government Sector\n",
       "1    Private Sector/Self Employed\n",
       "2    Private Sector/Self Employed\n",
       "3    Private Sector/Self Employed\n",
       "4    Private Sector/Self Employed\n",
       "Name: Employment Type, dtype: object"
      ]
     },
     "execution_count": 16,
     "metadata": {},
     "output_type": "execute_result"
    }
   ],
   "source": [
    "### looking at various rows for the column\n",
    "insurance_data['Employment Type'].head()"
   ]
  },
  {
   "cell_type": "code",
   "execution_count": 17,
   "id": "87a84d32",
   "metadata": {},
   "outputs": [
    {
     "data": {
      "text/plain": [
       "Private Sector/Self Employed    1417\n",
       "Government Sector                570\n",
       "Name: Employment Type, dtype: int64"
      ]
     },
     "execution_count": 17,
     "metadata": {},
     "output_type": "execute_result"
    }
   ],
   "source": [
    "### looking at the number of customers and their emp0loyment type\n",
    "insurance_data['Employment Type'].value_counts()"
   ]
  },
  {
   "cell_type": "code",
   "execution_count": 18,
   "id": "2d63d8b7",
   "metadata": {},
   "outputs": [
    {
     "data": {
      "image/png": "[encoded data removed]",
      "text/plain": [
       "<Figure size 432x288 with 1 Axes>"
      ]
     },
     "metadata": {
      "needs_background": "light"
     },
     "output_type": "display_data"
    }
   ],
   "source": [
    "plt.hist(insurance_data['Employment Type'])   \n",
    "plt.xlabel('EMPLOYMENT TYPE',fontsize =10)\n",
    "plt.ylabel('NUMBER OF CUSTOMERS',fontsize =10)\n",
    "figsize= 20,10\n",
    "plt.show()"
   ]
  },
  {
   "cell_type": "markdown",
   "id": "d7e104b8",
   "metadata": {},
   "source": [
    "The employment type for the customers are two.The customers are either self employed(Private sector) or work in the government sector. The graph shows that most of the customers are self employed with a value of one thousand four hundred and seventeen (1417) , only few work in the government sector with a value of five-hundred and seventy (570)."
   ]
  },
  {
   "cell_type": "markdown",
   "id": "3316a9de",
   "metadata": {},
   "source": [
    "###  \tGraduateOrNot"
   ]
  },
  {
   "cell_type": "code",
   "execution_count": 19,
   "id": "81054186",
   "metadata": {},
   "outputs": [
    {
     "data": {
      "text/plain": [
       "<bound method NDFrame.head of 0       Yes\n",
       "1       Yes\n",
       "2       Yes\n",
       "3       Yes\n",
       "4       Yes\n",
       "       ... \n",
       "1982    Yes\n",
       "1983    Yes\n",
       "1984    Yes\n",
       "1985    Yes\n",
       "1986    Yes\n",
       "Name: GraduateOrNot, Length: 1987, dtype: object>"
      ]
     },
     "execution_count": 19,
     "metadata": {},
     "output_type": "execute_result"
    }
   ],
   "source": [
    "### looking at rows for  the column graduateornot\n",
    "insurance_data.GraduateOrNot.head"
   ]
  },
  {
   "cell_type": "code",
   "execution_count": 20,
   "id": "fb415d3d",
   "metadata": {},
   "outputs": [
    {
     "data": {
      "text/plain": [
       "Yes    1692\n",
       "No      295\n",
       "Name: GraduateOrNot, dtype: int64"
      ]
     },
     "execution_count": 20,
     "metadata": {},
     "output_type": "execute_result"
    }
   ],
   "source": [
    "### number of customers who are graduates or not\n",
    "insurance_data.GraduateOrNot.value_counts()"
   ]
  },
  {
   "cell_type": "markdown",
   "id": "6764e9d2",
   "metadata": {},
   "source": [
    "One thousand six hundred and ninety-two (1692) of the customers are graduates whiles two hundred and ninety-five (295) are non-graduates. This means that most of the customers are graduates"
   ]
  },
  {
   "cell_type": "markdown",
   "id": "ec1ac731",
   "metadata": {},
   "source": [
    "### AnnualIncome"
   ]
  },
  {
   "cell_type": "code",
   "execution_count": 21,
   "id": "82ee17a8",
   "metadata": {},
   "outputs": [
    {
     "data": {
      "text/plain": [
       "<bound method NDFrame.head of 0        400000\n",
       "1       1250000\n",
       "2        500000\n",
       "3        700000\n",
       "4        700000\n",
       "         ...   \n",
       "1982    1500000\n",
       "1983    1750000\n",
       "1984    1150000\n",
       "1985    1000000\n",
       "1986     500000\n",
       "Name: AnnualIncome, Length: 1987, dtype: int64>"
      ]
     },
     "execution_count": 21,
     "metadata": {},
     "output_type": "execute_result"
    }
   ],
   "source": [
    "### looking at the rows for the column AnnualIncome\n",
    "insurance_data.AnnualIncome.head"
   ]
  },
  {
   "cell_type": "code",
   "execution_count": 22,
   "id": "b6084e9a",
   "metadata": {},
   "outputs": [
    {
     "data": {
      "text/plain": [
       "800000     153\n",
       "500000     143\n",
       "1400000    130\n",
       "1200000    112\n",
       "1100000    107\n",
       "600000      98\n",
       "700000      95\n",
       "1300000     91\n",
       "300000      88\n",
       "1500000     82\n",
       "1050000     82\n",
       "550000      81\n",
       "1150000     79\n",
       "900000      72\n",
       "1250000     71\n",
       "750000      65\n",
       "400000      65\n",
       "1000000     60\n",
       "350000      55\n",
       "850000      55\n",
       "1350000     43\n",
       "1700000     37\n",
       "1450000     31\n",
       "650000      30\n",
       "950000      21\n",
       "1750000     15\n",
       "450000      15\n",
       "1550000      5\n",
       "1800000      4\n",
       "1650000      2\n",
       "Name: AnnualIncome, dtype: int64"
      ]
     },
     "execution_count": 22,
     "metadata": {},
     "output_type": "execute_result"
    }
   ],
   "source": [
    "### Number of customers and their annual income\n",
    "insurance_data.AnnualIncome.value_counts()"
   ]
  },
  {
   "cell_type": "code",
   "execution_count": 23,
   "id": "d47dbc97",
   "metadata": {},
   "outputs": [
    {
     "data": {
      "text/plain": [
       "1800000"
      ]
     },
     "execution_count": 23,
     "metadata": {},
     "output_type": "execute_result"
    }
   ],
   "source": [
    "### Customers with the highest annual income\n",
    "insurance_data.AnnualIncome.max()"
   ]
  },
  {
   "cell_type": "code",
   "execution_count": 24,
   "id": "9b75bca3",
   "metadata": {},
   "outputs": [
    {
     "data": {
      "text/plain": [
       "800000"
      ]
     },
     "execution_count": 24,
     "metadata": {},
     "output_type": "execute_result"
    }
   ],
   "source": [
    "### modal annual income for the customers\n",
    "st.mode(insurance_data.AnnualIncome)"
   ]
  },
  {
   "cell_type": "code",
   "execution_count": 25,
   "id": "67adaa9d",
   "metadata": {},
   "outputs": [
    {
     "data": {
      "text/plain": [
       "300000"
      ]
     },
     "execution_count": 25,
     "metadata": {},
     "output_type": "execute_result"
    }
   ],
   "source": [
    "### customers with the lowest annual income\n",
    "insurance_data.AnnualIncome.min()"
   ]
  },
  {
   "cell_type": "code",
   "execution_count": 26,
   "id": "0120edd5",
   "metadata": {},
   "outputs": [
    {
     "data": {
      "text/plain": [
       "count    1.987000e+03\n",
       "mean     9.327630e+05\n",
       "std      3.768557e+05\n",
       "min      3.000000e+05\n",
       "25%      6.000000e+05\n",
       "50%      9.000000e+05\n",
       "75%      1.250000e+06\n",
       "max      1.800000e+06\n",
       "Name: AnnualIncome, dtype: float64"
      ]
     },
     "execution_count": 26,
     "metadata": {},
     "output_type": "execute_result"
    }
   ],
   "source": [
    "### Looking at the annual income column  statiscally  \n",
    "insurance_data.AnnualIncome.describe()"
   ]
  },
  {
   "cell_type": "code",
   "execution_count": 27,
   "id": "fbdf3889",
   "metadata": {},
   "outputs": [
    {
     "data": {
      "image/png": "[encoded data removed]",
      "text/plain": [
       "<Figure size 432x288 with 1 Axes>"
      ]
     },
     "metadata": {
      "needs_background": "light"
     },
     "output_type": "display_data"
    }
   ],
   "source": [
    "###looking at the AnnualIncome column graphically\n",
    "plt.hist(insurance_data['AnnualIncome'])   \n",
    "plt.xlabel('INCOME',fontsize =20)\n",
    "plt.ylabel('NUMEBR OF CUSTOMERS',fontsize =15)\n",
    "figsize= 20,15\n",
    "plt.show()"
   ]
  },
  {
   "cell_type": "markdown",
   "id": "236d7576",
   "metadata": {},
   "source": [
    "For the Annual Income column, the highest annual income is 1800000 which is earned by only four customers looking at the total number of customers in the dataset and lowest annual income is 300000 which is earned by eighty-eight customers.Most of the customers earn.One hundred and fifty-three (153) customers earn about 800000 annually.This means most of the customers earn 800000 annually."
   ]
  },
  {
   "cell_type": "markdown",
   "id": "2a2e9d24",
   "metadata": {},
   "source": [
    "### FamilyMembers \t"
   ]
  },
  {
   "cell_type": "code",
   "execution_count": 28,
   "id": "d2fe0356",
   "metadata": {},
   "outputs": [
    {
     "data": {
      "text/plain": [
       "0    6\n",
       "1    7\n",
       "2    4\n",
       "3    3\n",
       "4    8\n",
       "Name: FamilyMembers, dtype: int64"
      ]
     },
     "execution_count": 28,
     "metadata": {},
     "output_type": "execute_result"
    }
   ],
   "source": [
    "### Rows for the column AnnualIncome\n",
    "insurance_data.FamilyMembers.head()"
   ]
  },
  {
   "cell_type": "code",
   "execution_count": 29,
   "id": "e19faa00",
   "metadata": {},
   "outputs": [
    {
     "data": {
      "text/plain": [
       "4    505\n",
       "5    426\n",
       "3    377\n",
       "6    294\n",
       "7    178\n",
       "2     93\n",
       "8     59\n",
       "9     55\n",
       "Name: FamilyMembers, dtype: int64"
      ]
     },
     "execution_count": 29,
     "metadata": {},
     "output_type": "execute_result"
    }
   ],
   "source": [
    "### Number of Family Members of the various customers\n",
    "insurance_data.FamilyMembers.value_counts()"
   ]
  },
  {
   "cell_type": "code",
   "execution_count": 30,
   "id": "f8098f8e",
   "metadata": {},
   "outputs": [
    {
     "data": {
      "text/plain": [
       "9"
      ]
     },
     "execution_count": 30,
     "metadata": {},
     "output_type": "execute_result"
    }
   ],
   "source": [
    "### maximum number of family members\n",
    "insurance_data.FamilyMembers.max()"
   ]
  },
  {
   "cell_type": "code",
   "execution_count": 31,
   "id": "85be1037",
   "metadata": {},
   "outputs": [
    {
     "data": {
      "text/plain": [
       "2"
      ]
     },
     "execution_count": 31,
     "metadata": {},
     "output_type": "execute_result"
    }
   ],
   "source": [
    "### minimum number of family members\n",
    "insurance_data.FamilyMembers.min()"
   ]
  },
  {
   "cell_type": "code",
   "execution_count": 32,
   "id": "cb49978c",
   "metadata": {},
   "outputs": [
    {
     "data": {
      "text/plain": [
       "4"
      ]
     },
     "execution_count": 32,
     "metadata": {},
     "output_type": "execute_result"
    }
   ],
   "source": [
    "### most occuring number of family members\n",
    "st.mode(insurance_data.FamilyMembers)"
   ]
  },
  {
   "cell_type": "code",
   "execution_count": 33,
   "id": "fd500058",
   "metadata": {},
   "outputs": [
    {
     "data": {
      "image/png": "[encoded data removed]",
      "text/plain": [
       "<Figure size 432x288 with 1 Axes>"
      ]
     },
     "metadata": {
      "needs_background": "light"
     },
     "output_type": "display_data"
    }
   ],
   "source": [
    "###looking at the FamilyMembers column graphically\n",
    "plt.hist(insurance_data['FamilyMembers'],bins=8)\n",
    "plt.xlabel('NUMBER OF FAMILY MEMBERS',fontsize =20)\n",
    "plt.ylabel('NUMEBR OF CUSTOMERS',fontsize =15)\n",
    "figsize= 20,15\n",
    "figsize= 9,9\n",
    "plt.show()"
   ]
  },
  {
   "cell_type": "markdown",
   "id": "696cc2fd",
   "metadata": {},
   "source": [
    "Fifty-five (55) customers have alot of family members which is nine (9) and ninety-three (93) have the lowest family members which is 2.Most of the customers have four (4) family members.Which is five hundred and five (505). "
   ]
  },
  {
   "cell_type": "markdown",
   "id": "18186475",
   "metadata": {},
   "source": [
    "### ChronicDiseases"
   ]
  },
  {
   "cell_type": "code",
   "execution_count": 34,
   "id": "610bf7dc",
   "metadata": {},
   "outputs": [
    {
     "data": {
      "text/plain": [
       "0    1\n",
       "1    0\n",
       "2    1\n",
       "3    1\n",
       "4    1\n",
       "Name: ChronicDiseases, dtype: int64"
      ]
     },
     "execution_count": 34,
     "metadata": {},
     "output_type": "execute_result"
    }
   ],
   "source": [
    "###### Rows for the column ChronicDiseases\n",
    "insurance_data.ChronicDiseases.head()"
   ]
  },
  {
   "cell_type": "code",
   "execution_count": 35,
   "id": "4393097e",
   "metadata": {},
   "outputs": [
    {
     "data": {
      "text/plain": [
       "0    1435\n",
       "1     552\n",
       "Name: ChronicDiseases, dtype: int64"
      ]
     },
     "execution_count": 35,
     "metadata": {},
     "output_type": "execute_result"
    }
   ],
   "source": [
    "### Number of customers with Chronic Diseases\n",
    "insurance_data.ChronicDiseases.value_counts()"
   ]
  },
  {
   "cell_type": "code",
   "execution_count": 36,
   "id": "d363705a",
   "metadata": {},
   "outputs": [
    {
     "data": {
      "image/png": "[encoded data removed]",
      "text/plain": [
       "<Figure size 504x504 with 1 Axes>"
      ]
     },
     "metadata": {},
     "output_type": "display_data"
    }
   ],
   "source": [
    "### viewing the Chronic Diseases column on a pie chart \n",
    "insurance_data.groupby('ChronicDiseases')['ChronicDiseases'].count().plot(kind='pie',autopct='%1.2f%%',\n",
    "figsize=(7,7),explode=(0.,0.1))\n",
    "plt.legend(insurance_data,loc=\"center\")\n",
    "plt.axis('equal')\n",
    "plt.show()"
   ]
  },
  {
   "cell_type": "markdown",
   "id": "01a194dd",
   "metadata": {},
   "source": [
    "The number of customers with chronic diseases are five hundred and fifty-two and those withiout are one thousand four hundred and thirty-five (1435). This means most of the customers dont have chronic diseases."
   ]
  },
  {
   "cell_type": "markdown",
   "id": "4b51b2b4",
   "metadata": {},
   "source": [
    "###  FrequentFlyer"
   ]
  },
  {
   "cell_type": "code",
   "execution_count": 37,
   "id": "840b2c7e",
   "metadata": {},
   "outputs": [
    {
     "data": {
      "text/plain": [
       "0     No\n",
       "1     No\n",
       "2     No\n",
       "3     No\n",
       "4    Yes\n",
       "Name: FrequentFlyer, dtype: object"
      ]
     },
     "execution_count": 37,
     "metadata": {},
     "output_type": "execute_result"
    }
   ],
   "source": [
    "### Looking at the rows for FrequentFlyer column\n",
    "insurance_data.FrequentFlyer.head()"
   ]
  },
  {
   "cell_type": "code",
   "execution_count": 38,
   "id": "3488b593",
   "metadata": {},
   "outputs": [
    {
     "data": {
      "text/plain": [
       "No     1570\n",
       "Yes     417\n",
       "Name: FrequentFlyer, dtype: int64"
      ]
     },
     "execution_count": 38,
     "metadata": {},
     "output_type": "execute_result"
    }
   ],
   "source": [
    "### Number of customers who books frequent tickets or not\n",
    "insurance_data.FrequentFlyer.value_counts()"
   ]
  },
  {
   "cell_type": "code",
   "execution_count": 39,
   "id": "5acbeebc",
   "metadata": {},
   "outputs": [
    {
     "data": {
      "image/png": "[encoded data removed]",
      "text/plain": [
       "<Figure size 504x504 with 1 Axes>"
      ]
     },
     "metadata": {},
     "output_type": "display_data"
    }
   ],
   "source": [
    "### viewing the Chronic Diseases column on a pie chart \n",
    "insurance_data.groupby('FrequentFlyer')['FrequentFlyer'].count().plot(kind='pie',autopct='%1.2f%%',\n",
    "figsize=(7,7),explode=(0.,0.1))\n",
    "plt.legend(insurance_data,loc=\"center\")\n",
    "plt.axis('equal')\n",
    "plt.show()"
   ]
  },
  {
   "cell_type": "markdown",
   "id": "48fde7d4",
   "metadata": {},
   "source": [
    "One thousand five hundred and seventy customers do not book frequent tickects and four hundred and seventeen books frequent tickets. This means most of the customers do not buy tickets frequently. "
   ]
  },
  {
   "cell_type": "markdown",
   "id": "1a6e3579",
   "metadata": {},
   "source": [
    "###  EverTravelledAbroad"
   ]
  },
  {
   "cell_type": "code",
   "execution_count": 40,
   "id": "fb3922cc",
   "metadata": {},
   "outputs": [
    {
     "data": {
      "text/plain": [
       "0    No\n",
       "1    No\n",
       "2    No\n",
       "3    No\n",
       "4    No\n",
       "Name: EverTravelledAbroad, dtype: object"
      ]
     },
     "execution_count": 40,
     "metadata": {},
     "output_type": "execute_result"
    }
   ],
   "source": [
    "### Looking at the rows for EverTravelledAbroad column\n",
    "insurance_data.EverTravelledAbroad.head()"
   ]
  },
  {
   "cell_type": "code",
   "execution_count": 41,
   "id": "1748c0ed",
   "metadata": {},
   "outputs": [
    {
     "data": {
      "text/plain": [
       "No     1607\n",
       "Yes     380\n",
       "Name: EverTravelledAbroad, dtype: int64"
      ]
     },
     "execution_count": 41,
     "metadata": {},
     "output_type": "execute_result"
    }
   ],
   "source": [
    "### Number of customers who have ever travelled abroad or not\n",
    "insurance_data.EverTravelledAbroad.value_counts()"
   ]
  },
  {
   "cell_type": "code",
   "execution_count": 42,
   "id": "4384a34d",
   "metadata": {},
   "outputs": [
    {
     "data": {
      "image/png": "[encoded data removed]",
      "text/plain": [
       "<Figure size 504x504 with 1 Axes>"
      ]
     },
     "metadata": {},
     "output_type": "display_data"
    }
   ],
   "source": [
    "### looking at the EverTravelledAbroad column graphically\n",
    "insurance_data.groupby('EverTravelledAbroad')['EverTravelledAbroad'].count().plot(kind='pie',autopct='%1.2f%%',\n",
    "figsize=(7,7),explode=(0.,0.1))\n",
    "plt.legend(insurance_data,loc=\"center\")\n",
    "plt.axis('equal')\n",
    "plt.show()"
   ]
  },
  {
   "cell_type": "markdown",
   "id": "1d7f2468",
   "metadata": {},
   "source": [
    "One thousand six hundred and seven (1607) of the customers have never travelled abroad and three hundred and eighty (380) have travelled abroad. This means that most o fthe customers have never travelled abroad."
   ]
  },
  {
   "cell_type": "markdown",
   "id": "48c10eff",
   "metadata": {},
   "source": [
    "### TravelInsurance"
   ]
  },
  {
   "cell_type": "code",
   "execution_count": 43,
   "id": "aacd1910",
   "metadata": {},
   "outputs": [
    {
     "data": {
      "text/plain": [
       "0    0\n",
       "1    0\n",
       "2    1\n",
       "3    0\n",
       "4    0\n",
       "Name: TravelInsurance, dtype: int64"
      ]
     },
     "execution_count": 43,
     "metadata": {},
     "output_type": "execute_result"
    }
   ],
   "source": [
    "### Looking at the rows for TravelInsurance column\n",
    "insurance_data.TravelInsurance.head()"
   ]
  },
  {
   "cell_type": "code",
   "execution_count": 44,
   "id": "49dfe7e6",
   "metadata": {},
   "outputs": [
    {
     "data": {
      "text/plain": [
       "0    1277\n",
       "1     710\n",
       "Name: TravelInsurance, dtype: int64"
      ]
     },
     "execution_count": 44,
     "metadata": {},
     "output_type": "execute_result"
    }
   ],
   "source": [
    "### whether the customer bought travel insurance or not\n",
    "insurance_data.TravelInsurance.value_counts()"
   ]
  },
  {
   "cell_type": "code",
   "execution_count": 45,
   "id": "4ef8783a",
   "metadata": {},
   "outputs": [
    {
     "data": {
      "image/png": "[encoded data removed]",
      "text/plain": [
       "<Figure size 504x504 with 1 Axes>"
      ]
     },
     "metadata": {},
     "output_type": "display_data"
    }
   ],
   "source": [
    "### looking at the TravelInsurance column graphically\n",
    "insurance_data.groupby('TravelInsurance')['TravelInsurance'].count().plot(kind='pie',autopct='%1.2f%%',\n",
    "figsize=(7,7),explode=(0.,0.1))\n",
    "plt.legend(insurance_data,loc=\"center\")\n",
    "plt.axis('equal')\n",
    "plt.show()"
   ]
  },
  {
   "cell_type": "markdown",
   "id": "3f2c77c3",
   "metadata": {},
   "source": [
    "One thousand two hundred and seventy-seven (1277) of the customers didnt buy travel insurance and seven hundred and ten (710) bought travel insurance. This means that most of the customers didnt buy travel insurance."
   ]
  },
  {
   "cell_type": "markdown",
   "id": "f96fbd69",
   "metadata": {},
   "source": [
    "### MULTIVARIATE ANALYSIS"
   ]
  },
  {
   "cell_type": "code",
   "execution_count": 46,
   "id": "f8706e6f",
   "metadata": {},
   "outputs": [
    {
     "data": {
      "text/html": [
       "<div>\n",
       "<style scoped>\n",
       "    .dataframe tbody tr th:only-of-type {\n",
       "        vertical-align: middle;\n",
       "    }\n",
       "\n",
       "    .dataframe tbody tr th {\n",
       "        vertical-align: top;\n",
       "    }\n",
       "\n",
       "    .dataframe thead th {\n",
       "        text-align: right;\n",
       "    }\n",
       "</style>\n",
       "<table border=\"1\" class=\"dataframe\">\n",
       "  <thead>\n",
       "    <tr style=\"text-align: right;\">\n",
       "      <th></th>\n",
       "      <th>Age</th>\n",
       "      <th>Employment Type</th>\n",
       "      <th>GraduateOrNot</th>\n",
       "      <th>AnnualIncome</th>\n",
       "      <th>FamilyMembers</th>\n",
       "      <th>ChronicDiseases</th>\n",
       "      <th>FrequentFlyer</th>\n",
       "      <th>EverTravelledAbroad</th>\n",
       "      <th>TravelInsurance</th>\n",
       "    </tr>\n",
       "  </thead>\n",
       "  <tbody>\n",
       "    <tr>\n",
       "      <th>0</th>\n",
       "      <td>31</td>\n",
       "      <td>Government Sector</td>\n",
       "      <td>Yes</td>\n",
       "      <td>400000</td>\n",
       "      <td>6</td>\n",
       "      <td>1</td>\n",
       "      <td>No</td>\n",
       "      <td>No</td>\n",
       "      <td>0</td>\n",
       "    </tr>\n",
       "    <tr>\n",
       "      <th>1</th>\n",
       "      <td>31</td>\n",
       "      <td>Private Sector/Self Employed</td>\n",
       "      <td>Yes</td>\n",
       "      <td>1250000</td>\n",
       "      <td>7</td>\n",
       "      <td>0</td>\n",
       "      <td>No</td>\n",
       "      <td>No</td>\n",
       "      <td>0</td>\n",
       "    </tr>\n",
       "    <tr>\n",
       "      <th>2</th>\n",
       "      <td>34</td>\n",
       "      <td>Private Sector/Self Employed</td>\n",
       "      <td>Yes</td>\n",
       "      <td>500000</td>\n",
       "      <td>4</td>\n",
       "      <td>1</td>\n",
       "      <td>No</td>\n",
       "      <td>No</td>\n",
       "      <td>1</td>\n",
       "    </tr>\n",
       "    <tr>\n",
       "      <th>3</th>\n",
       "      <td>28</td>\n",
       "      <td>Private Sector/Self Employed</td>\n",
       "      <td>Yes</td>\n",
       "      <td>700000</td>\n",
       "      <td>3</td>\n",
       "      <td>1</td>\n",
       "      <td>No</td>\n",
       "      <td>No</td>\n",
       "      <td>0</td>\n",
       "    </tr>\n",
       "    <tr>\n",
       "      <th>4</th>\n",
       "      <td>28</td>\n",
       "      <td>Private Sector/Self Employed</td>\n",
       "      <td>Yes</td>\n",
       "      <td>700000</td>\n",
       "      <td>8</td>\n",
       "      <td>1</td>\n",
       "      <td>Yes</td>\n",
       "      <td>No</td>\n",
       "      <td>0</td>\n",
       "    </tr>\n",
       "  </tbody>\n",
       "</table>\n",
       "</div>"
      ],
      "text/plain": [
       "   Age               Employment Type GraduateOrNot  AnnualIncome  \\\n",
       "0   31             Government Sector           Yes        400000   \n",
       "1   31  Private Sector/Self Employed           Yes       1250000   \n",
       "2   34  Private Sector/Self Employed           Yes        500000   \n",
       "3   28  Private Sector/Self Employed           Yes        700000   \n",
       "4   28  Private Sector/Self Employed           Yes        700000   \n",
       "\n",
       "   FamilyMembers  ChronicDiseases FrequentFlyer EverTravelledAbroad  \\\n",
       "0              6                1            No                  No   \n",
       "1              7                0            No                  No   \n",
       "2              4                1            No                  No   \n",
       "3              3                1            No                  No   \n",
       "4              8                1           Yes                  No   \n",
       "\n",
       "   TravelInsurance  \n",
       "0                0  \n",
       "1                0  \n",
       "2                1  \n",
       "3                0  \n",
       "4                0  "
      ]
     },
     "execution_count": 46,
     "metadata": {},
     "output_type": "execute_result"
    }
   ],
   "source": [
    "### looking at various columns and rows of the dataset \n",
    "insurance_data.head()"
   ]
  },
  {
   "cell_type": "code",
   "execution_count": null,
   "id": "eb7d5b96",
   "metadata": {},
   "outputs": [],
   "source": []
  },
  {
   "cell_type": "code",
   "execution_count": 47,
   "id": "af2153ea",
   "metadata": {
    "scrolled": true
   },
   "outputs": [
    {
     "data": {
      "text/html": [
       "<div>\n",
       "<style scoped>\n",
       "    .dataframe tbody tr th:only-of-type {\n",
       "        vertical-align: middle;\n",
       "    }\n",
       "\n",
       "    .dataframe tbody tr th {\n",
       "        vertical-align: top;\n",
       "    }\n",
       "\n",
       "    .dataframe thead th {\n",
       "        text-align: right;\n",
       "    }\n",
       "</style>\n",
       "<table border=\"1\" class=\"dataframe\">\n",
       "  <thead>\n",
       "    <tr style=\"text-align: right;\">\n",
       "      <th></th>\n",
       "      <th>Age</th>\n",
       "      <th>AnnualIncome</th>\n",
       "      <th>FrequentFlyer</th>\n",
       "      <th>EverTravelledAbroad</th>\n",
       "      <th>TravelInsurance</th>\n",
       "    </tr>\n",
       "  </thead>\n",
       "  <tbody>\n",
       "    <tr>\n",
       "      <th>0</th>\n",
       "      <td>31</td>\n",
       "      <td>400000</td>\n",
       "      <td>No</td>\n",
       "      <td>No</td>\n",
       "      <td>0</td>\n",
       "    </tr>\n",
       "    <tr>\n",
       "      <th>1</th>\n",
       "      <td>31</td>\n",
       "      <td>1250000</td>\n",
       "      <td>No</td>\n",
       "      <td>No</td>\n",
       "      <td>0</td>\n",
       "    </tr>\n",
       "    <tr>\n",
       "      <th>2</th>\n",
       "      <td>34</td>\n",
       "      <td>500000</td>\n",
       "      <td>No</td>\n",
       "      <td>No</td>\n",
       "      <td>1</td>\n",
       "    </tr>\n",
       "    <tr>\n",
       "      <th>3</th>\n",
       "      <td>28</td>\n",
       "      <td>700000</td>\n",
       "      <td>No</td>\n",
       "      <td>No</td>\n",
       "      <td>0</td>\n",
       "    </tr>\n",
       "    <tr>\n",
       "      <th>4</th>\n",
       "      <td>28</td>\n",
       "      <td>700000</td>\n",
       "      <td>Yes</td>\n",
       "      <td>No</td>\n",
       "      <td>0</td>\n",
       "    </tr>\n",
       "    <tr>\n",
       "      <th>5</th>\n",
       "      <td>25</td>\n",
       "      <td>1150000</td>\n",
       "      <td>No</td>\n",
       "      <td>No</td>\n",
       "      <td>0</td>\n",
       "    </tr>\n",
       "    <tr>\n",
       "      <th>6</th>\n",
       "      <td>31</td>\n",
       "      <td>1300000</td>\n",
       "      <td>No</td>\n",
       "      <td>No</td>\n",
       "      <td>0</td>\n",
       "    </tr>\n",
       "    <tr>\n",
       "      <th>7</th>\n",
       "      <td>31</td>\n",
       "      <td>1350000</td>\n",
       "      <td>Yes</td>\n",
       "      <td>Yes</td>\n",
       "      <td>1</td>\n",
       "    </tr>\n",
       "    <tr>\n",
       "      <th>8</th>\n",
       "      <td>28</td>\n",
       "      <td>1450000</td>\n",
       "      <td>Yes</td>\n",
       "      <td>Yes</td>\n",
       "      <td>1</td>\n",
       "    </tr>\n",
       "    <tr>\n",
       "      <th>9</th>\n",
       "      <td>33</td>\n",
       "      <td>800000</td>\n",
       "      <td>Yes</td>\n",
       "      <td>No</td>\n",
       "      <td>0</td>\n",
       "    </tr>\n",
       "  </tbody>\n",
       "</table>\n",
       "</div>"
      ],
      "text/plain": [
       "   Age  AnnualIncome FrequentFlyer EverTravelledAbroad  TravelInsurance\n",
       "0   31        400000            No                  No                0\n",
       "1   31       1250000            No                  No                0\n",
       "2   34        500000            No                  No                1\n",
       "3   28        700000            No                  No                0\n",
       "4   28        700000           Yes                  No                0\n",
       "5   25       1150000            No                  No                0\n",
       "6   31       1300000            No                  No                0\n",
       "7   31       1350000           Yes                 Yes                1\n",
       "8   28       1450000           Yes                 Yes                1\n",
       "9   33        800000           Yes                  No                0"
      ]
     },
     "execution_count": 47,
     "metadata": {},
     "output_type": "execute_result"
    }
   ],
   "source": [
    "### focusing of the four columns\n",
    "insurance_data2 =insurance_data[[ 'Age','AnnualIncome', 'FrequentFlyer','EverTravelledAbroad', 'TravelInsurance']]\n",
    "insurance_data2.head(10)"
   ]
  },
  {
   "cell_type": "markdown",
   "id": "6096c782",
   "metadata": {},
   "source": [
    "### Age Against FrequentFlyer"
   ]
  },
  {
   "cell_type": "code",
   "execution_count": 48,
   "id": "2a9919ba",
   "metadata": {
    "scrolled": true
   },
   "outputs": [
    {
     "data": {
      "text/html": [
       "<div>\n",
       "<style scoped>\n",
       "    .dataframe tbody tr th:only-of-type {\n",
       "        vertical-align: middle;\n",
       "    }\n",
       "\n",
       "    .dataframe tbody tr th {\n",
       "        vertical-align: top;\n",
       "    }\n",
       "\n",
       "    .dataframe thead th {\n",
       "        text-align: right;\n",
       "    }\n",
       "</style>\n",
       "<table border=\"1\" class=\"dataframe\">\n",
       "  <thead>\n",
       "    <tr style=\"text-align: right;\">\n",
       "      <th></th>\n",
       "      <th>Age</th>\n",
       "      <th>FrequentFlyer</th>\n",
       "    </tr>\n",
       "  </thead>\n",
       "  <tbody>\n",
       "    <tr>\n",
       "      <th>0</th>\n",
       "      <td>31</td>\n",
       "      <td>No</td>\n",
       "    </tr>\n",
       "    <tr>\n",
       "      <th>1</th>\n",
       "      <td>31</td>\n",
       "      <td>No</td>\n",
       "    </tr>\n",
       "    <tr>\n",
       "      <th>2</th>\n",
       "      <td>34</td>\n",
       "      <td>No</td>\n",
       "    </tr>\n",
       "    <tr>\n",
       "      <th>3</th>\n",
       "      <td>28</td>\n",
       "      <td>No</td>\n",
       "    </tr>\n",
       "    <tr>\n",
       "      <th>4</th>\n",
       "      <td>28</td>\n",
       "      <td>Yes</td>\n",
       "    </tr>\n",
       "    <tr>\n",
       "      <th>...</th>\n",
       "      <td>...</td>\n",
       "      <td>...</td>\n",
       "    </tr>\n",
       "    <tr>\n",
       "      <th>1982</th>\n",
       "      <td>33</td>\n",
       "      <td>Yes</td>\n",
       "    </tr>\n",
       "    <tr>\n",
       "      <th>1983</th>\n",
       "      <td>28</td>\n",
       "      <td>No</td>\n",
       "    </tr>\n",
       "    <tr>\n",
       "      <th>1984</th>\n",
       "      <td>28</td>\n",
       "      <td>No</td>\n",
       "    </tr>\n",
       "    <tr>\n",
       "      <th>1985</th>\n",
       "      <td>34</td>\n",
       "      <td>Yes</td>\n",
       "    </tr>\n",
       "    <tr>\n",
       "      <th>1986</th>\n",
       "      <td>34</td>\n",
       "      <td>No</td>\n",
       "    </tr>\n",
       "  </tbody>\n",
       "</table>\n",
       "<p>1987 rows × 2 columns</p>\n",
       "</div>"
      ],
      "text/plain": [
       "      Age FrequentFlyer\n",
       "0      31            No\n",
       "1      31            No\n",
       "2      34            No\n",
       "3      28            No\n",
       "4      28           Yes\n",
       "...   ...           ...\n",
       "1982   33           Yes\n",
       "1983   28            No\n",
       "1984   28            No\n",
       "1985   34           Yes\n",
       "1986   34            No\n",
       "\n",
       "[1987 rows x 2 columns]"
      ]
     },
     "execution_count": 48,
     "metadata": {},
     "output_type": "execute_result"
    }
   ],
   "source": [
    "## looking at the age and FrequentFlyer column\n",
    "insurance_data2[['Age','FrequentFlyer']]"
   ]
  },
  {
   "cell_type": "code",
   "execution_count": 49,
   "id": "a6264cde",
   "metadata": {},
   "outputs": [
    {
     "data": {
      "text/plain": [
       "Age  FrequentFlyer\n",
       "25   No                76\n",
       "     Yes               70\n",
       "26   No               113\n",
       "     Yes               35\n",
       "27   No               114\n",
       "     Yes               17\n",
       "28   No               426\n",
       "     Yes               80\n",
       "29   No               164\n",
       "     Yes               28\n",
       "30   No                45\n",
       "     Yes               20\n",
       "31   No               198\n",
       "     Yes               36\n",
       "32   No                72\n",
       "     Yes               19\n",
       "33   No               122\n",
       "     Yes               26\n",
       "34   No               189\n",
       "     Yes               77\n",
       "35   No                51\n",
       "     Yes                9\n",
       "Name: Age, dtype: int64"
      ]
     },
     "execution_count": 49,
     "metadata": {},
     "output_type": "execute_result"
    }
   ],
   "source": [
    "### counting ages and frequent flyers booked\n",
    "insurance_data2.groupby(['Age','FrequentFlyer'])['Age'].count()"
   ]
  },
  {
   "cell_type": "code",
   "execution_count": 50,
   "id": "c8a4d449",
   "metadata": {},
   "outputs": [
    {
     "data": {
      "image/png": "[encoded data removed]",
      "text/plain": [
       "<Figure size 1080x576 with 1 Axes>"
      ]
     },
     "metadata": {},
     "output_type": "display_data"
    }
   ],
   "source": [
    "### showing age against frequentflyer column on a pie chart\n",
    "insurance_data2.groupby(['FrequentFlyer']).sum().plot(kind='pie',y='Age',figsize=(15,8))\n",
    "plt.title('Age Against FrequentFlyer')\n",
    "plt.legend(insurance_data2.FrequentFlyer,loc=\"center\")\n",
    "plt.axis('equal')\n",
    "plt.show()"
   ]
  },
  {
   "cell_type": "markdown",
   "id": "8fb6b26b",
   "metadata": {},
   "source": [
    "The cutomers that books frequent tickets according to the datasets are of ages twenty-eight (28) and thirty-four (34) years old. looking at the graph most of the customers between the age groups of twenty-five to twenty-nine years books frequent tickets. The customers in their thirtys dont really book tickets frequently.The customers that frequently books tickets are of age group twenty-eight (28) and customers who are thirty-five years of age (35) dont book tickets frequently."
   ]
  },
  {
   "cell_type": "markdown",
   "id": "88fa5dfa",
   "metadata": {},
   "source": [
    "### Age Against  EverTravelledAbroad"
   ]
  },
  {
   "cell_type": "code",
   "execution_count": 51,
   "id": "9312d147",
   "metadata": {},
   "outputs": [
    {
     "data": {
      "text/html": [
       "<div>\n",
       "<style scoped>\n",
       "    .dataframe tbody tr th:only-of-type {\n",
       "        vertical-align: middle;\n",
       "    }\n",
       "\n",
       "    .dataframe tbody tr th {\n",
       "        vertical-align: top;\n",
       "    }\n",
       "\n",
       "    .dataframe thead th {\n",
       "        text-align: right;\n",
       "    }\n",
       "</style>\n",
       "<table border=\"1\" class=\"dataframe\">\n",
       "  <thead>\n",
       "    <tr style=\"text-align: right;\">\n",
       "      <th></th>\n",
       "      <th>Age</th>\n",
       "      <th>EverTravelledAbroad</th>\n",
       "    </tr>\n",
       "  </thead>\n",
       "  <tbody>\n",
       "    <tr>\n",
       "      <th>0</th>\n",
       "      <td>31</td>\n",
       "      <td>No</td>\n",
       "    </tr>\n",
       "    <tr>\n",
       "      <th>1</th>\n",
       "      <td>31</td>\n",
       "      <td>No</td>\n",
       "    </tr>\n",
       "    <tr>\n",
       "      <th>2</th>\n",
       "      <td>34</td>\n",
       "      <td>No</td>\n",
       "    </tr>\n",
       "    <tr>\n",
       "      <th>3</th>\n",
       "      <td>28</td>\n",
       "      <td>No</td>\n",
       "    </tr>\n",
       "    <tr>\n",
       "      <th>4</th>\n",
       "      <td>28</td>\n",
       "      <td>No</td>\n",
       "    </tr>\n",
       "  </tbody>\n",
       "</table>\n",
       "</div>"
      ],
      "text/plain": [
       "   Age EverTravelledAbroad\n",
       "0   31                  No\n",
       "1   31                  No\n",
       "2   34                  No\n",
       "3   28                  No\n",
       "4   28                  No"
      ]
     },
     "execution_count": 51,
     "metadata": {},
     "output_type": "execute_result"
    }
   ],
   "source": [
    "## looking at the age and EverTravelledAbroad column\n",
    "insurance_data2[['Age','EverTravelledAbroad']].head()"
   ]
  },
  {
   "cell_type": "code",
   "execution_count": 52,
   "id": "7f2ae6f4",
   "metadata": {},
   "outputs": [
    {
     "data": {
      "text/plain": [
       "Age  EverTravelledAbroad\n",
       "25   No                      95\n",
       "     Yes                     51\n",
       "26   No                      84\n",
       "     Yes                     64\n",
       "27   No                     123\n",
       "     Yes                      8\n",
       "28   No                     463\n",
       "     Yes                     43\n",
       "29   No                     171\n",
       "     Yes                     21\n",
       "30   No                      51\n",
       "     Yes                     14\n",
       "31   No                     172\n",
       "     Yes                     62\n",
       "32   No                      84\n",
       "     Yes                      7\n",
       "33   No                     106\n",
       "     Yes                     42\n",
       "34   No                     204\n",
       "     Yes                     62\n",
       "35   No                      54\n",
       "     Yes                      6\n",
       "Name: Age, dtype: int64"
      ]
     },
     "execution_count": 52,
     "metadata": {},
     "output_type": "execute_result"
    }
   ],
   "source": [
    "### counting ages that have ever travelled abroad\n",
    "insurance_data2.groupby(['Age','EverTravelledAbroad'])['Age'].count()"
   ]
  },
  {
   "cell_type": "code",
   "execution_count": 53,
   "id": "43e3d286",
   "metadata": {},
   "outputs": [
    {
     "data": {
      "image/png": "[encoded data removed]",
      "text/plain": [
       "<Figure size 1080x576 with 1 Axes>"
      ]
     },
     "metadata": {},
     "output_type": "display_data"
    }
   ],
   "source": [
    "### showing age against EverTravelledAbroad column on a pie chart\n",
    "insurance_data2.groupby(['EverTravelledAbroad']).sum().plot(kind='pie',y='Age',figsize=(15,8))\n",
    "plt.title('Age Against EverTravelledAbroad')\n",
    "plt.legend(insurance_data2.EverTravelledAbroad,loc=\"center\")\n",
    "plt.axis('equal')\n",
    "plt.show()"
   ]
  },
  {
   "cell_type": "markdown",
   "id": "ea7dc366",
   "metadata": {},
   "source": [
    "Most of the customers in the ages of 26 have travelled abroad and only six (6) of the customers who are thirty-five (35) years have  have travelled abroad. This means that customers with age thirty-five (35) dont really travel abroad. The graphs shows that most of the customers in their thirtys have  travelled abroad than customers in their twentys."
   ]
  },
  {
   "cell_type": "markdown",
   "id": "e0cb726b",
   "metadata": {},
   "source": [
    "### Age Against  TravelInsurance"
   ]
  },
  {
   "cell_type": "code",
   "execution_count": 54,
   "id": "5916dc6d",
   "metadata": {},
   "outputs": [
    {
     "data": {
      "text/html": [
       "<div>\n",
       "<style scoped>\n",
       "    .dataframe tbody tr th:only-of-type {\n",
       "        vertical-align: middle;\n",
       "    }\n",
       "\n",
       "    .dataframe tbody tr th {\n",
       "        vertical-align: top;\n",
       "    }\n",
       "\n",
       "    .dataframe thead th {\n",
       "        text-align: right;\n",
       "    }\n",
       "</style>\n",
       "<table border=\"1\" class=\"dataframe\">\n",
       "  <thead>\n",
       "    <tr style=\"text-align: right;\">\n",
       "      <th></th>\n",
       "      <th>Age</th>\n",
       "      <th>TravelInsurance</th>\n",
       "    </tr>\n",
       "  </thead>\n",
       "  <tbody>\n",
       "    <tr>\n",
       "      <th>0</th>\n",
       "      <td>31</td>\n",
       "      <td>0</td>\n",
       "    </tr>\n",
       "    <tr>\n",
       "      <th>1</th>\n",
       "      <td>31</td>\n",
       "      <td>0</td>\n",
       "    </tr>\n",
       "    <tr>\n",
       "      <th>2</th>\n",
       "      <td>34</td>\n",
       "      <td>1</td>\n",
       "    </tr>\n",
       "    <tr>\n",
       "      <th>3</th>\n",
       "      <td>28</td>\n",
       "      <td>0</td>\n",
       "    </tr>\n",
       "    <tr>\n",
       "      <th>4</th>\n",
       "      <td>28</td>\n",
       "      <td>0</td>\n",
       "    </tr>\n",
       "  </tbody>\n",
       "</table>\n",
       "</div>"
      ],
      "text/plain": [
       "   Age  TravelInsurance\n",
       "0   31                0\n",
       "1   31                0\n",
       "2   34                1\n",
       "3   28                0\n",
       "4   28                0"
      ]
     },
     "execution_count": 54,
     "metadata": {},
     "output_type": "execute_result"
    }
   ],
   "source": [
    "## looking at the age and TravelInsurance column\n",
    "insurance_data2[['Age','TravelInsurance']].head()"
   ]
  },
  {
   "cell_type": "code",
   "execution_count": 55,
   "id": "1194d13d",
   "metadata": {},
   "outputs": [
    {
     "data": {
      "text/plain": [
       "Age  TravelInsurance\n",
       "25   0                   54\n",
       "     1                   92\n",
       "26   0                   74\n",
       "     1                   74\n",
       "27   0                  104\n",
       "     1                   27\n",
       "28   0                  401\n",
       "     1                  105\n",
       "29   0                  141\n",
       "     1                   51\n",
       "30   0                   37\n",
       "     1                   28\n",
       "31   0                  159\n",
       "     1                   75\n",
       "32   0                   72\n",
       "     1                   19\n",
       "33   0                   70\n",
       "     1                   78\n",
       "34   0                  133\n",
       "     1                  133\n",
       "35   0                   32\n",
       "     1                   28\n",
       "Name: Age, dtype: int64"
      ]
     },
     "execution_count": 55,
     "metadata": {},
     "output_type": "execute_result"
    }
   ],
   "source": [
    "### counting ages who have travell insurance \n",
    "insurance_data2.groupby(['Age','TravelInsurance'])['Age'].count()"
   ]
  },
  {
   "cell_type": "code",
   "execution_count": 56,
   "id": "110597d3",
   "metadata": {},
   "outputs": [
    {
     "data": {
      "image/png": "[encoded data removed]",
      "text/plain": [
       "<Figure size 1080x576 with 1 Axes>"
      ]
     },
     "metadata": {},
     "output_type": "display_data"
    }
   ],
   "source": [
    "### showing age against TravelInsurance column on a pie chart\n",
    "insurance_data2.groupby(['TravelInsurance']).sum().plot(kind='pie',y='Age',figsize=(15,8))\n",
    "plt.title('Age Against FrequentFlyer')\n",
    "plt.legend(insurance_data2.TravelInsurance,loc=\"center\")\n",
    "plt.axis('equal')\n",
    "plt.show()"
   ]
  },
  {
   "cell_type": "markdown",
   "id": "179a9266",
   "metadata": {},
   "source": [
    "Most of the customers who bought travel insurance are thirty-four (34) years old and the customers who didnt buy travell insurance are thirty-two (32) years old."
   ]
  },
  {
   "cell_type": "markdown",
   "id": "8127e0df",
   "metadata": {},
   "source": [
    "### AnnualIncome Against TravelInsurance"
   ]
  },
  {
   "cell_type": "code",
   "execution_count": 57,
   "id": "cf35f2c5",
   "metadata": {},
   "outputs": [
    {
     "data": {
      "text/html": [
       "<style type=\"text/css\">\n",
       "#T_97f5d_row0_col0, #T_97f5d_row1_col1 {\n",
       "  background-color: #b40426;\n",
       "  color: #f1f1f1;\n",
       "}\n",
       "#T_97f5d_row0_col1, #T_97f5d_row1_col0 {\n",
       "  background-color: #3b4cc0;\n",
       "  color: #f1f1f1;\n",
       "}\n",
       "</style>\n",
       "<table id=\"T_97f5d_\">\n",
       "  <thead>\n",
       "    <tr>\n",
       "      <th class=\"blank level0\" >&nbsp;</th>\n",
       "      <th class=\"col_heading level0 col0\" >AnnualIncome</th>\n",
       "      <th class=\"col_heading level0 col1\" >TravelInsurance</th>\n",
       "    </tr>\n",
       "  </thead>\n",
       "  <tbody>\n",
       "    <tr>\n",
       "      <th id=\"T_97f5d_level0_row0\" class=\"row_heading level0 row0\" >AnnualIncome</th>\n",
       "      <td id=\"T_97f5d_row0_col0\" class=\"data row0 col0\" >1.000000</td>\n",
       "      <td id=\"T_97f5d_row0_col1\" class=\"data row0 col1\" >0.396763</td>\n",
       "    </tr>\n",
       "    <tr>\n",
       "      <th id=\"T_97f5d_level0_row1\" class=\"row_heading level0 row1\" >TravelInsurance</th>\n",
       "      <td id=\"T_97f5d_row1_col0\" class=\"data row1 col0\" >0.396763</td>\n",
       "      <td id=\"T_97f5d_row1_col1\" class=\"data row1 col1\" >1.000000</td>\n",
       "    </tr>\n",
       "  </tbody>\n",
       "</table>\n"
      ],
      "text/plain": [
       "<pandas.io.formats.style.Styler at 0x237b6628f70>"
      ]
     },
     "execution_count": 57,
     "metadata": {},
     "output_type": "execute_result"
    }
   ],
   "source": [
    "### correlation between AnnualIncome and TravelInsurance\n",
    "correlation =insurance_data2[['AnnualIncome', 'TravelInsurance']]\n",
    "correlation.corr()\n",
    "correlation = correlation.corr()\n",
    "correlation.style.background_gradient(cmap='coolwarm')"
   ]
  },
  {
   "cell_type": "code",
   "execution_count": 73,
   "id": "3a37bf05",
   "metadata": {},
   "outputs": [
    {
     "data": {
      "image/png": "[encoded data removed]",
      "text/plain": [
       "<Figure size 1080x576 with 1 Axes>"
      ]
     },
     "metadata": {},
     "output_type": "display_data"
    }
   ],
   "source": [
    "### showing age against TravelInsurance column on a pie chart\n",
    "insurance_data2.groupby(['AnnualIncome']).sum().plot(kind='pie',y='TravelInsurance',figsize=(15,8))\n",
    "plt.title('AnnualIncome Against TravelInsurance')\n",
    "plt.legend(insurance_data2.AnnualIncome,loc=\"upper right\")\n",
    "plt.axis('equal')\n",
    "plt.show()"
   ]
  },
  {
   "cell_type": "markdown",
   "id": "f71bb681",
   "metadata": {},
   "source": [
    "This shows that the annual income and Travel insuarance, booking of tickets and travelling abroad column are not linearly related.Which means annual income of the customers does not affect the rate at which they buy travell insuarnce, booking of tickets and travelling abroad.The number of customers who book frequent flyers are less trhan those who have ever travelled abroad. "
   ]
  },
  {
   "cell_type": "markdown",
   "id": "c25b028f",
   "metadata": {},
   "source": [
    "THE COMPANY SHOULD ADVERTISE MORE TO PEOPLE WHO OWN THEIR BUSINESSES THAN GOVERNMENT WORKERS.\n",
    "THE COMPANY SHOULD ADVERTISE TO MORE GRADUATES THAN NON GRADUATES.\n",
    "INSURANCE SHOULD BE ADVERTISE TO PEOPLE WHO ARE IN THEIR THIRTY'S THAN THOSE IN THEIR TWENTY'S.\n",
    "FLYERS SHOULD  BE ADVERTISE TO PEOPLE WHO ARE IN THEIR TWENTY'S SINCE THEY MOSTLY TRAVEL ABROAD THAN THOSE IN THEIR THIRTY'S. "
   ]
  }
 ],
 "metadata": {
  "kernelspec": {
   "display_name": "Python 3 (ipykernel)",
   "language": "python",
   "name": "python3"
  },
  "language_info": {
   "codemirror_mode": {
    "name": "ipython",
    "version": 3
   },
   "file_extension": ".py",
   "mimetype": "text/x-python",
   "name": "python",
   "nbconvert_exporter": "python",
   "pygments_lexer": "ipython3",
   "version": "3.9.7"
  }
 },
 "nbformat": 4,
 "nbformat_minor": 5
}
